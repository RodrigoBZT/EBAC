{
 "cells": [
  {
   "cell_type": "markdown",
   "metadata": {},
   "source": [
    "# Tarefa 03\n",
    "\n",
    "- Leia os enunciados com atenção\n",
    "- Saiba que pode haver mais de uma resposta correta\n",
    "- Insira novas células de código sempre que achar necessário\n",
    "- Em caso de dúvidas, procure os Tutores\n",
    "- Divirta-se :)"
   ]
  },
  {
   "cell_type": "code",
   "execution_count": 1,
   "metadata": {},
   "outputs": [],
   "source": [
    "import pandas as pd\n",
    "import requests"
   ]
  },
  {
   "cell_type": "markdown",
   "metadata": {},
   "source": [
    "####  1) Lendo de APIs\n",
    "Vimos em aula como carregar dados públicos do governo através de um API (*Application Programming Interface*). No exemplo de aula, baixamos os dados de pedidos de verificação de limites (PVL) realizados por estados, e selecionamos apenas aqueles referentes ao estado de São Paulo.\n",
    "\n",
    "1. Repita os mesmos passos feitos em aula, mas selecione os PVLs realizados por municípios no estado do Rio de Janeiro.\n",
    "2. Quais são os três *status* das solicitações mais frequentes na base? Quais são suas frequências?\n",
    "3. Construa uma nova variável que contenha o ano do **status**. Observe que ```data_status``` vem como tipo *object* no **DataFrame**. Dica: você pode usar o método ```.str``` para transformar o tipo da variável em string, em seguida um método como [**slice()**](https://pandas.pydata.org/docs/reference/api/pandas.Series.str.slice.html) ou [**split()**](https://pandas.pydata.org/pandas-docs/stable/reference/api/pandas.Series.str.split.html).\n",
    "4. Indique a frequência de cada ano do campo construído no item (3)."
   ]
  },
  {
   "cell_type": "markdown",
   "metadata": {},
   "source": [
    "<br/>"
   ]
  },
  {
   "cell_type": "markdown",
   "metadata": {},
   "source": [
    "1. Repita os mesmos passos feitos em aula, mas selecione os PVLs realizados por municípios no estado do Rio de Janeiro."
   ]
  },
  {
   "cell_type": "code",
   "execution_count": 2,
   "metadata": {},
   "outputs": [],
   "source": [
    "# 1) Seu código aqui\n",
    "url = (\n",
    "    'https://apidatalake.tesouro.gov.br/ords/sadipem/tt/pvl?uf=RJ&tipo_inter' +\n",
    "    'essado=Munic%C3%ADpio'\n",
    ")"
   ]
  },
  {
   "cell_type": "code",
   "execution_count": 3,
   "metadata": {},
   "outputs": [],
   "source": [
    "r = requests.get(url)"
   ]
  },
  {
   "cell_type": "code",
   "execution_count": 4,
   "metadata": {},
   "outputs": [],
   "source": [
    "pvl_rj_municipio = pd.DataFrame(r.json()['items'])"
   ]
  },
  {
   "cell_type": "code",
   "execution_count": 5,
   "metadata": {},
   "outputs": [
    {
     "name": "stdout",
     "output_type": "stream",
     "text": [
      "<class 'pandas.core.frame.DataFrame'>\n",
      "RangeIndex: 235 entries, 0 to 234\n",
      "Data columns (total 18 columns):\n",
      " #   Column                 Non-Null Count  Dtype  \n",
      "---  ------                 --------------  -----  \n",
      " 0   id_pleito              235 non-null    int64  \n",
      " 1   tipo_interessado       235 non-null    object \n",
      " 2   interessado            235 non-null    object \n",
      " 3   cod_ibge               235 non-null    int64  \n",
      " 4   uf                     235 non-null    object \n",
      " 5   num_pvl                58 non-null     object \n",
      " 6   status                 235 non-null    object \n",
      " 7   num_processo           218 non-null    object \n",
      " 8   data_protocolo         218 non-null    object \n",
      " 9   tipo_operacao          235 non-null    object \n",
      " 10  finalidade             235 non-null    object \n",
      " 11  tipo_credor            235 non-null    object \n",
      " 12  credor                 235 non-null    object \n",
      " 13  moeda                  235 non-null    object \n",
      " 14  valor                  235 non-null    float64\n",
      " 15  pvl_assoc_divida       235 non-null    int64  \n",
      " 16  pvl_contradado_credor  235 non-null    int64  \n",
      " 17  data_status            235 non-null    object \n",
      "dtypes: float64(1), int64(4), object(13)\n",
      "memory usage: 33.2+ KB\n"
     ]
    }
   ],
   "source": [
    "pvl_rj_municipio.info()"
   ]
  },
  {
   "cell_type": "code",
   "execution_count": 6,
   "metadata": {
    "scrolled": false
   },
   "outputs": [
    {
     "data": {
      "text/html": [
       "<div>\n",
       "<style scoped>\n",
       "    .dataframe tbody tr th:only-of-type {\n",
       "        vertical-align: middle;\n",
       "    }\n",
       "\n",
       "    .dataframe tbody tr th {\n",
       "        vertical-align: top;\n",
       "    }\n",
       "\n",
       "    .dataframe thead th {\n",
       "        text-align: right;\n",
       "    }\n",
       "</style>\n",
       "<table border=\"1\" class=\"dataframe\">\n",
       "  <thead>\n",
       "    <tr style=\"text-align: right;\">\n",
       "      <th></th>\n",
       "      <th>id_pleito</th>\n",
       "      <th>tipo_interessado</th>\n",
       "      <th>interessado</th>\n",
       "      <th>cod_ibge</th>\n",
       "      <th>uf</th>\n",
       "      <th>num_pvl</th>\n",
       "      <th>status</th>\n",
       "      <th>num_processo</th>\n",
       "      <th>data_protocolo</th>\n",
       "      <th>tipo_operacao</th>\n",
       "      <th>finalidade</th>\n",
       "      <th>tipo_credor</th>\n",
       "      <th>credor</th>\n",
       "      <th>moeda</th>\n",
       "      <th>valor</th>\n",
       "      <th>pvl_assoc_divida</th>\n",
       "      <th>pvl_contradado_credor</th>\n",
       "      <th>data_status</th>\n",
       "    </tr>\n",
       "  </thead>\n",
       "  <tbody>\n",
       "    <tr>\n",
       "      <th>0</th>\n",
       "      <td>8590</td>\n",
       "      <td>Município</td>\n",
       "      <td>Belford Roxo</td>\n",
       "      <td>3300456</td>\n",
       "      <td>RJ</td>\n",
       "      <td>None</td>\n",
       "      <td>Arquivado por decurso de prazo</td>\n",
       "      <td>17944.000804/2011-12</td>\n",
       "      <td>2014-10-20T02:00:00Z</td>\n",
       "      <td>Operação contratual interna</td>\n",
       "      <td>RELUZ</td>\n",
       "      <td>Empresa Não Estatal</td>\n",
       "      <td>Light - Serviços de Eletricidade S/A</td>\n",
       "      <td>Real</td>\n",
       "      <td>10144171.83</td>\n",
       "      <td>0</td>\n",
       "      <td>0</td>\n",
       "      <td>13/02/2015</td>\n",
       "    </tr>\n",
       "    <tr>\n",
       "      <th>1</th>\n",
       "      <td>9075</td>\n",
       "      <td>Município</td>\n",
       "      <td>Barra do Piraí</td>\n",
       "      <td>3300308</td>\n",
       "      <td>RJ</td>\n",
       "      <td>None</td>\n",
       "      <td>Arquivado</td>\n",
       "      <td>17944.000898/2008-24</td>\n",
       "      <td>2008-08-18T03:00:00Z</td>\n",
       "      <td>Operação contratual interna</td>\n",
       "      <td>Caminho da Escola 2</td>\n",
       "      <td>Instituição Financeira Nacional</td>\n",
       "      <td>Banco do Brasil S/A</td>\n",
       "      <td>Real</td>\n",
       "      <td>459400.00</td>\n",
       "      <td>0</td>\n",
       "      <td>0</td>\n",
       "      <td>30/10/2008</td>\n",
       "    </tr>\n",
       "    <tr>\n",
       "      <th>2</th>\n",
       "      <td>10433</td>\n",
       "      <td>Município</td>\n",
       "      <td>Mesquita</td>\n",
       "      <td>3302858</td>\n",
       "      <td>RJ</td>\n",
       "      <td>None</td>\n",
       "      <td>Arquivado</td>\n",
       "      <td>17944.001199/2008-00</td>\n",
       "      <td>2008-09-30T03:00:00Z</td>\n",
       "      <td>Operação contratual interna</td>\n",
       "      <td>PAC - Saneamento - 2008 B</td>\n",
       "      <td>Instituição Financeira Nacional</td>\n",
       "      <td>Caixa Econômica Federal</td>\n",
       "      <td>Real</td>\n",
       "      <td>10055000.00</td>\n",
       "      <td>0</td>\n",
       "      <td>0</td>\n",
       "      <td>10/12/2008</td>\n",
       "    </tr>\n",
       "    <tr>\n",
       "      <th>3</th>\n",
       "      <td>10441</td>\n",
       "      <td>Município</td>\n",
       "      <td>Niterói</td>\n",
       "      <td>3303302</td>\n",
       "      <td>RJ</td>\n",
       "      <td>None</td>\n",
       "      <td>Deferido</td>\n",
       "      <td>17944.001200/2014-36</td>\n",
       "      <td>2014-09-08T03:00:00Z</td>\n",
       "      <td>Operação contratual interna</td>\n",
       "      <td>PMAT</td>\n",
       "      <td>Instituição Financeira Nacional</td>\n",
       "      <td>Banco Nacional de Desenvolvimento Econômico e ...</td>\n",
       "      <td>Real</td>\n",
       "      <td>28088701.00</td>\n",
       "      <td>1</td>\n",
       "      <td>0</td>\n",
       "      <td>11/09/2014</td>\n",
       "    </tr>\n",
       "    <tr>\n",
       "      <th>4</th>\n",
       "      <td>13780</td>\n",
       "      <td>Município</td>\n",
       "      <td>Nova Friburgo</td>\n",
       "      <td>3303401</td>\n",
       "      <td>RJ</td>\n",
       "      <td>None</td>\n",
       "      <td>Deferido</td>\n",
       "      <td>19405.000082/2002-38</td>\n",
       "      <td>2002-11-25T02:00:00Z</td>\n",
       "      <td>Operação contratual interna</td>\n",
       "      <td>PMAT</td>\n",
       "      <td>Instituição Financeira Nacional</td>\n",
       "      <td>Banco Nacional de Desenvolvimento Econômico e ...</td>\n",
       "      <td>Real</td>\n",
       "      <td>2286000.00</td>\n",
       "      <td>1</td>\n",
       "      <td>0</td>\n",
       "      <td>18/12/2002</td>\n",
       "    </tr>\n",
       "  </tbody>\n",
       "</table>\n",
       "</div>"
      ],
      "text/plain": [
       "   id_pleito tipo_interessado     interessado  cod_ibge  uf num_pvl  \\\n",
       "0       8590        Município    Belford Roxo   3300456  RJ    None   \n",
       "1       9075        Município  Barra do Piraí   3300308  RJ    None   \n",
       "2      10433        Município        Mesquita   3302858  RJ    None   \n",
       "3      10441        Município         Niterói   3303302  RJ    None   \n",
       "4      13780        Município   Nova Friburgo   3303401  RJ    None   \n",
       "\n",
       "                           status          num_processo        data_protocolo  \\\n",
       "0  Arquivado por decurso de prazo  17944.000804/2011-12  2014-10-20T02:00:00Z   \n",
       "1                       Arquivado  17944.000898/2008-24  2008-08-18T03:00:00Z   \n",
       "2                       Arquivado  17944.001199/2008-00  2008-09-30T03:00:00Z   \n",
       "3                        Deferido  17944.001200/2014-36  2014-09-08T03:00:00Z   \n",
       "4                        Deferido  19405.000082/2002-38  2002-11-25T02:00:00Z   \n",
       "\n",
       "                 tipo_operacao                 finalidade  \\\n",
       "0  Operação contratual interna                      RELUZ   \n",
       "1  Operação contratual interna        Caminho da Escola 2   \n",
       "2  Operação contratual interna  PAC - Saneamento - 2008 B   \n",
       "3  Operação contratual interna                       PMAT   \n",
       "4  Operação contratual interna                       PMAT   \n",
       "\n",
       "                       tipo_credor  \\\n",
       "0              Empresa Não Estatal   \n",
       "1  Instituição Financeira Nacional   \n",
       "2  Instituição Financeira Nacional   \n",
       "3  Instituição Financeira Nacional   \n",
       "4  Instituição Financeira Nacional   \n",
       "\n",
       "                                              credor moeda        valor  \\\n",
       "0               Light - Serviços de Eletricidade S/A  Real  10144171.83   \n",
       "1                                Banco do Brasil S/A  Real    459400.00   \n",
       "2                            Caixa Econômica Federal  Real  10055000.00   \n",
       "3  Banco Nacional de Desenvolvimento Econômico e ...  Real  28088701.00   \n",
       "4  Banco Nacional de Desenvolvimento Econômico e ...  Real   2286000.00   \n",
       "\n",
       "   pvl_assoc_divida  pvl_contradado_credor data_status  \n",
       "0                 0                      0  13/02/2015  \n",
       "1                 0                      0  30/10/2008  \n",
       "2                 0                      0  10/12/2008  \n",
       "3                 1                      0  11/09/2014  \n",
       "4                 1                      0  18/12/2002  "
      ]
     },
     "execution_count": 6,
     "metadata": {},
     "output_type": "execute_result"
    }
   ],
   "source": [
    "pvl_rj_municipio.head()"
   ]
  },
  {
   "cell_type": "markdown",
   "metadata": {},
   "source": [
    "<br/>"
   ]
  },
  {
   "cell_type": "markdown",
   "metadata": {},
   "source": [
    "2. Quais são os três *status* das solicitações mais frequentes na base? Quais são suas frequências?"
   ]
  },
  {
   "cell_type": "code",
   "execution_count": 7,
   "metadata": {
    "scrolled": true
   },
   "outputs": [
    {
     "data": {
      "text/plain": [
       "Deferido        94\n",
       "Arquivado       53\n",
       "Regularizado    25\n",
       "Name: status, dtype: int64"
      ]
     },
     "execution_count": 7,
     "metadata": {},
     "output_type": "execute_result"
    }
   ],
   "source": [
    "# 2) Seu código aqui\n",
    "pvl_rj_municipio['status'].value_counts()[0:3]"
   ]
  },
  {
   "cell_type": "markdown",
   "metadata": {},
   "source": [
    "<br/>"
   ]
  },
  {
   "cell_type": "markdown",
   "metadata": {},
   "source": [
    "3. Construa uma nova variável que contenha o ano do **status**. Observe que ```data_status``` vem como tipo *object* no **DataFrame**. Dica: você pode usar o método ```.str``` para transformar o tipo da variável em string, em seguida um método como [**slice()**](https://pandas.pydata.org/docs/reference/api/pandas.Series.str.slice.html) ou [**split()**](https://pandas.pydata.org/pandas-docs/stable/reference/api/pandas.Series.str.split.html)."
   ]
  },
  {
   "cell_type": "code",
   "execution_count": 8,
   "metadata": {},
   "outputs": [],
   "source": [
    "# 3) Seu código aqui\n",
    "pvl_rj_municipio['ano_status'] = (\n",
    "    pvl_rj_municipio['data_status'].apply(lambda x: x.split(sep='/')[-1])\n",
    ")"
   ]
  },
  {
   "cell_type": "code",
   "execution_count": 9,
   "metadata": {
    "scrolled": false
   },
   "outputs": [
    {
     "data": {
      "text/html": [
       "<div>\n",
       "<style scoped>\n",
       "    .dataframe tbody tr th:only-of-type {\n",
       "        vertical-align: middle;\n",
       "    }\n",
       "\n",
       "    .dataframe tbody tr th {\n",
       "        vertical-align: top;\n",
       "    }\n",
       "\n",
       "    .dataframe thead th {\n",
       "        text-align: right;\n",
       "    }\n",
       "</style>\n",
       "<table border=\"1\" class=\"dataframe\">\n",
       "  <thead>\n",
       "    <tr style=\"text-align: right;\">\n",
       "      <th></th>\n",
       "      <th>id_pleito</th>\n",
       "      <th>tipo_interessado</th>\n",
       "      <th>interessado</th>\n",
       "      <th>cod_ibge</th>\n",
       "      <th>uf</th>\n",
       "      <th>num_pvl</th>\n",
       "      <th>status</th>\n",
       "      <th>num_processo</th>\n",
       "      <th>data_protocolo</th>\n",
       "      <th>tipo_operacao</th>\n",
       "      <th>finalidade</th>\n",
       "      <th>tipo_credor</th>\n",
       "      <th>credor</th>\n",
       "      <th>moeda</th>\n",
       "      <th>valor</th>\n",
       "      <th>pvl_assoc_divida</th>\n",
       "      <th>pvl_contradado_credor</th>\n",
       "      <th>data_status</th>\n",
       "      <th>ano_status</th>\n",
       "    </tr>\n",
       "  </thead>\n",
       "  <tbody>\n",
       "    <tr>\n",
       "      <th>0</th>\n",
       "      <td>8590</td>\n",
       "      <td>Município</td>\n",
       "      <td>Belford Roxo</td>\n",
       "      <td>3300456</td>\n",
       "      <td>RJ</td>\n",
       "      <td>None</td>\n",
       "      <td>Arquivado por decurso de prazo</td>\n",
       "      <td>17944.000804/2011-12</td>\n",
       "      <td>2014-10-20T02:00:00Z</td>\n",
       "      <td>Operação contratual interna</td>\n",
       "      <td>RELUZ</td>\n",
       "      <td>Empresa Não Estatal</td>\n",
       "      <td>Light - Serviços de Eletricidade S/A</td>\n",
       "      <td>Real</td>\n",
       "      <td>10144171.83</td>\n",
       "      <td>0</td>\n",
       "      <td>0</td>\n",
       "      <td>13/02/2015</td>\n",
       "      <td>2015</td>\n",
       "    </tr>\n",
       "    <tr>\n",
       "      <th>1</th>\n",
       "      <td>9075</td>\n",
       "      <td>Município</td>\n",
       "      <td>Barra do Piraí</td>\n",
       "      <td>3300308</td>\n",
       "      <td>RJ</td>\n",
       "      <td>None</td>\n",
       "      <td>Arquivado</td>\n",
       "      <td>17944.000898/2008-24</td>\n",
       "      <td>2008-08-18T03:00:00Z</td>\n",
       "      <td>Operação contratual interna</td>\n",
       "      <td>Caminho da Escola 2</td>\n",
       "      <td>Instituição Financeira Nacional</td>\n",
       "      <td>Banco do Brasil S/A</td>\n",
       "      <td>Real</td>\n",
       "      <td>459400.00</td>\n",
       "      <td>0</td>\n",
       "      <td>0</td>\n",
       "      <td>30/10/2008</td>\n",
       "      <td>2008</td>\n",
       "    </tr>\n",
       "    <tr>\n",
       "      <th>2</th>\n",
       "      <td>10433</td>\n",
       "      <td>Município</td>\n",
       "      <td>Mesquita</td>\n",
       "      <td>3302858</td>\n",
       "      <td>RJ</td>\n",
       "      <td>None</td>\n",
       "      <td>Arquivado</td>\n",
       "      <td>17944.001199/2008-00</td>\n",
       "      <td>2008-09-30T03:00:00Z</td>\n",
       "      <td>Operação contratual interna</td>\n",
       "      <td>PAC - Saneamento - 2008 B</td>\n",
       "      <td>Instituição Financeira Nacional</td>\n",
       "      <td>Caixa Econômica Federal</td>\n",
       "      <td>Real</td>\n",
       "      <td>10055000.00</td>\n",
       "      <td>0</td>\n",
       "      <td>0</td>\n",
       "      <td>10/12/2008</td>\n",
       "      <td>2008</td>\n",
       "    </tr>\n",
       "    <tr>\n",
       "      <th>3</th>\n",
       "      <td>10441</td>\n",
       "      <td>Município</td>\n",
       "      <td>Niterói</td>\n",
       "      <td>3303302</td>\n",
       "      <td>RJ</td>\n",
       "      <td>None</td>\n",
       "      <td>Deferido</td>\n",
       "      <td>17944.001200/2014-36</td>\n",
       "      <td>2014-09-08T03:00:00Z</td>\n",
       "      <td>Operação contratual interna</td>\n",
       "      <td>PMAT</td>\n",
       "      <td>Instituição Financeira Nacional</td>\n",
       "      <td>Banco Nacional de Desenvolvimento Econômico e ...</td>\n",
       "      <td>Real</td>\n",
       "      <td>28088701.00</td>\n",
       "      <td>1</td>\n",
       "      <td>0</td>\n",
       "      <td>11/09/2014</td>\n",
       "      <td>2014</td>\n",
       "    </tr>\n",
       "    <tr>\n",
       "      <th>4</th>\n",
       "      <td>13780</td>\n",
       "      <td>Município</td>\n",
       "      <td>Nova Friburgo</td>\n",
       "      <td>3303401</td>\n",
       "      <td>RJ</td>\n",
       "      <td>None</td>\n",
       "      <td>Deferido</td>\n",
       "      <td>19405.000082/2002-38</td>\n",
       "      <td>2002-11-25T02:00:00Z</td>\n",
       "      <td>Operação contratual interna</td>\n",
       "      <td>PMAT</td>\n",
       "      <td>Instituição Financeira Nacional</td>\n",
       "      <td>Banco Nacional de Desenvolvimento Econômico e ...</td>\n",
       "      <td>Real</td>\n",
       "      <td>2286000.00</td>\n",
       "      <td>1</td>\n",
       "      <td>0</td>\n",
       "      <td>18/12/2002</td>\n",
       "      <td>2002</td>\n",
       "    </tr>\n",
       "  </tbody>\n",
       "</table>\n",
       "</div>"
      ],
      "text/plain": [
       "   id_pleito tipo_interessado     interessado  cod_ibge  uf num_pvl  \\\n",
       "0       8590        Município    Belford Roxo   3300456  RJ    None   \n",
       "1       9075        Município  Barra do Piraí   3300308  RJ    None   \n",
       "2      10433        Município        Mesquita   3302858  RJ    None   \n",
       "3      10441        Município         Niterói   3303302  RJ    None   \n",
       "4      13780        Município   Nova Friburgo   3303401  RJ    None   \n",
       "\n",
       "                           status          num_processo        data_protocolo  \\\n",
       "0  Arquivado por decurso de prazo  17944.000804/2011-12  2014-10-20T02:00:00Z   \n",
       "1                       Arquivado  17944.000898/2008-24  2008-08-18T03:00:00Z   \n",
       "2                       Arquivado  17944.001199/2008-00  2008-09-30T03:00:00Z   \n",
       "3                        Deferido  17944.001200/2014-36  2014-09-08T03:00:00Z   \n",
       "4                        Deferido  19405.000082/2002-38  2002-11-25T02:00:00Z   \n",
       "\n",
       "                 tipo_operacao                 finalidade  \\\n",
       "0  Operação contratual interna                      RELUZ   \n",
       "1  Operação contratual interna        Caminho da Escola 2   \n",
       "2  Operação contratual interna  PAC - Saneamento - 2008 B   \n",
       "3  Operação contratual interna                       PMAT   \n",
       "4  Operação contratual interna                       PMAT   \n",
       "\n",
       "                       tipo_credor  \\\n",
       "0              Empresa Não Estatal   \n",
       "1  Instituição Financeira Nacional   \n",
       "2  Instituição Financeira Nacional   \n",
       "3  Instituição Financeira Nacional   \n",
       "4  Instituição Financeira Nacional   \n",
       "\n",
       "                                              credor moeda        valor  \\\n",
       "0               Light - Serviços de Eletricidade S/A  Real  10144171.83   \n",
       "1                                Banco do Brasil S/A  Real    459400.00   \n",
       "2                            Caixa Econômica Federal  Real  10055000.00   \n",
       "3  Banco Nacional de Desenvolvimento Econômico e ...  Real  28088701.00   \n",
       "4  Banco Nacional de Desenvolvimento Econômico e ...  Real   2286000.00   \n",
       "\n",
       "   pvl_assoc_divida  pvl_contradado_credor data_status ano_status  \n",
       "0                 0                      0  13/02/2015       2015  \n",
       "1                 0                      0  30/10/2008       2008  \n",
       "2                 0                      0  10/12/2008       2008  \n",
       "3                 1                      0  11/09/2014       2014  \n",
       "4                 1                      0  18/12/2002       2002  "
      ]
     },
     "execution_count": 9,
     "metadata": {},
     "output_type": "execute_result"
    }
   ],
   "source": [
    "pvl_rj_municipio.head()"
   ]
  },
  {
   "cell_type": "markdown",
   "metadata": {},
   "source": [
    "<br/>"
   ]
  },
  {
   "cell_type": "markdown",
   "metadata": {},
   "source": [
    "4. Indique a frequência de cada ano do campo construído no item (3)."
   ]
  },
  {
   "cell_type": "code",
   "execution_count": 10,
   "metadata": {
    "scrolled": false
   },
   "outputs": [
    {
     "data": {
      "text/plain": [
       "2008    37\n",
       "2007    29\n",
       "2014    20\n",
       "2010    19\n",
       "2019    17\n",
       "2013    15\n",
       "2020    15\n",
       "2022    14\n",
       "2012    13\n",
       "2011    10\n",
       "2015     9\n",
       "2009     9\n",
       "2021     5\n",
       "2017     5\n",
       "2002     4\n",
       "2006     4\n",
       "2018     4\n",
       "2016     4\n",
       "2003     1\n",
       "2004     1\n",
       "Name: ano_status, dtype: int64"
      ]
     },
     "execution_count": 10,
     "metadata": {},
     "output_type": "execute_result"
    }
   ],
   "source": [
    "# 4)\n",
    "pvl_rj_municipio['ano_status'].value_counts()"
   ]
  },
  {
   "cell_type": "markdown",
   "metadata": {},
   "source": [
    "####  2) Melhorando a interação com o API\n",
    "Observe dois URLs de consultas diferentes, por exemplo o URL utilizado em aula, e o URL feito no exercício anterior. Compare-os e observe as diferenças.\n",
    "\n",
    "1. Faça uma função em Python que recebe como argumento o UF da consulta e o tipo de interessado (```'Estado'```ou ```Município```), e que devolve os dados da consulta no formato *DataFrame*.\n",
    "2. Quantas solicitações para o Estado podem ser consultadas para Minas Gerais com *status* em 'Arquivado por decurso de prazo' estão registradas?\n",
    "3. Qual é o município da Bahia com mais solicitações deferidas?\n",
    "4. Salve um arquivo .csv com os dados de solicitações da Bahia, com interessado = 'Estado'"
   ]
  },
  {
   "cell_type": "markdown",
   "metadata": {},
   "source": [
    "<br/>"
   ]
  },
  {
   "cell_type": "markdown",
   "metadata": {},
   "source": [
    "1. Faça uma função em Python que recebe como argumento o UF da consulta e o tipo de interessado (```'Estado'```ou ```Município```), e que devolve os dados da consulta no formato *DataFrame*."
   ]
  },
  {
   "cell_type": "code",
   "execution_count": 11,
   "metadata": {},
   "outputs": [],
   "source": [
    "#1) Seu código aqui\n",
    "def consulta_api(uf: str, tipo_interessado: str) -> pd.DataFrame:\n",
    "    \n",
    "    uf = uf.upper()\n",
    "    tipo_interessado = tipo_interessado.capitalize()\n",
    "    \n",
    "    url = (\n",
    "        f'https://apidatalake.tesouro.gov.br/ords/sadipem/tt/pvl?uf={uf}' +\n",
    "        f'&tipo_interessado={tipo_interessado}'\n",
    "    )\n",
    "    \n",
    "    r = requests.get(url)\n",
    "    \n",
    "    return pd.DataFrame(r.json()['items'])"
   ]
  },
  {
   "cell_type": "markdown",
   "metadata": {},
   "source": [
    "<br/>"
   ]
  },
  {
   "cell_type": "markdown",
   "metadata": {},
   "source": [
    "2. Quantas solicitações para o Estado podem ser consultadas para Minas Gerais com *status* em 'Arquivado por decurso de prazo' estão registradas?"
   ]
  },
  {
   "cell_type": "code",
   "execution_count": 12,
   "metadata": {},
   "outputs": [],
   "source": [
    "# 2) Seu código aqui\n",
    "df_mg_estado = consulta_api(uf='mg', tipo_interessado='estado')"
   ]
  },
  {
   "cell_type": "code",
   "execution_count": 13,
   "metadata": {},
   "outputs": [
    {
     "data": {
      "text/plain": [
       "1"
      ]
     },
     "execution_count": 13,
     "metadata": {},
     "output_type": "execute_result"
    }
   ],
   "source": [
    "df_mg_estado[df_mg_estado['status'] == 'Arquivado por decurso de prazo'].shape[0]"
   ]
  },
  {
   "cell_type": "code",
   "execution_count": 14,
   "metadata": {},
   "outputs": [
    {
     "data": {
      "text/html": [
       "<div>\n",
       "<style scoped>\n",
       "    .dataframe tbody tr th:only-of-type {\n",
       "        vertical-align: middle;\n",
       "    }\n",
       "\n",
       "    .dataframe tbody tr th {\n",
       "        vertical-align: top;\n",
       "    }\n",
       "\n",
       "    .dataframe thead th {\n",
       "        text-align: right;\n",
       "    }\n",
       "</style>\n",
       "<table border=\"1\" class=\"dataframe\">\n",
       "  <thead>\n",
       "    <tr style=\"text-align: right;\">\n",
       "      <th></th>\n",
       "      <th>id_pleito</th>\n",
       "      <th>tipo_interessado</th>\n",
       "      <th>interessado</th>\n",
       "      <th>cod_ibge</th>\n",
       "      <th>uf</th>\n",
       "      <th>num_pvl</th>\n",
       "      <th>status</th>\n",
       "      <th>num_processo</th>\n",
       "      <th>data_protocolo</th>\n",
       "      <th>tipo_operacao</th>\n",
       "      <th>finalidade</th>\n",
       "      <th>tipo_credor</th>\n",
       "      <th>credor</th>\n",
       "      <th>moeda</th>\n",
       "      <th>valor</th>\n",
       "      <th>pvl_assoc_divida</th>\n",
       "      <th>pvl_contradado_credor</th>\n",
       "      <th>data_status</th>\n",
       "    </tr>\n",
       "  </thead>\n",
       "  <tbody>\n",
       "    <tr>\n",
       "      <th>9</th>\n",
       "      <td>20534</td>\n",
       "      <td>Estado</td>\n",
       "      <td>Minas Gerais</td>\n",
       "      <td>31</td>\n",
       "      <td>MG</td>\n",
       "      <td>00000.000000/2017-69</td>\n",
       "      <td>Arquivado por decurso de prazo</td>\n",
       "      <td>17944.001113/2015-60</td>\n",
       "      <td>2017-07-26T03:00:00Z</td>\n",
       "      <td>Operação contratual interna</td>\n",
       "      <td>PMAE</td>\n",
       "      <td>Instituição Financeira Nacional</td>\n",
       "      <td>Banco Nacional de Desenvolvimento Econômico e ...</td>\n",
       "      <td>Real</td>\n",
       "      <td>7668000.0</td>\n",
       "      <td>0</td>\n",
       "      <td>0</td>\n",
       "      <td>16/03/2018</td>\n",
       "    </tr>\n",
       "  </tbody>\n",
       "</table>\n",
       "</div>"
      ],
      "text/plain": [
       "   id_pleito tipo_interessado   interessado  cod_ibge  uf  \\\n",
       "9      20534           Estado  Minas Gerais        31  MG   \n",
       "\n",
       "                num_pvl                          status          num_processo  \\\n",
       "9  00000.000000/2017-69  Arquivado por decurso de prazo  17944.001113/2015-60   \n",
       "\n",
       "         data_protocolo                tipo_operacao finalidade  \\\n",
       "9  2017-07-26T03:00:00Z  Operação contratual interna       PMAE   \n",
       "\n",
       "                       tipo_credor  \\\n",
       "9  Instituição Financeira Nacional   \n",
       "\n",
       "                                              credor moeda      valor  \\\n",
       "9  Banco Nacional de Desenvolvimento Econômico e ...  Real  7668000.0   \n",
       "\n",
       "   pvl_assoc_divida  pvl_contradado_credor data_status  \n",
       "9                 0                      0  16/03/2018  "
      ]
     },
     "execution_count": 14,
     "metadata": {},
     "output_type": "execute_result"
    }
   ],
   "source": [
    "df_mg_estado[df_mg_estado['status'] == 'Arquivado por decurso de prazo']"
   ]
  },
  {
   "cell_type": "markdown",
   "metadata": {},
   "source": [
    "<br/>"
   ]
  },
  {
   "cell_type": "markdown",
   "metadata": {},
   "source": [
    "3. Qual é o município da Bahia com mais solicitações deferidas?"
   ]
  },
  {
   "cell_type": "code",
   "execution_count": 15,
   "metadata": {},
   "outputs": [],
   "source": [
    "# 3) Seu código aqui\n",
    "df_ba_municipio = consulta_api(uf='ba', tipo_interessado='município')"
   ]
  },
  {
   "cell_type": "code",
   "execution_count": 16,
   "metadata": {},
   "outputs": [],
   "source": [
    "condicao = (\n",
    "    (df_ba_municipio['status'] == 'Deferido') \n",
    "    | (df_ba_municipio['status'] == 'Deferido (PVL-IF)')\n",
    ")"
   ]
  },
  {
   "cell_type": "code",
   "execution_count": 17,
   "metadata": {},
   "outputs": [
    {
     "data": {
      "text/plain": [
       "Luís Eduardo Magalhães    14\n",
       "Name: interessado, dtype: int64"
      ]
     },
     "execution_count": 17,
     "metadata": {},
     "output_type": "execute_result"
    }
   ],
   "source": [
    "df_ba_municipio[condicao]['interessado'].value_counts()[0:1]"
   ]
  },
  {
   "cell_type": "markdown",
   "metadata": {},
   "source": [
    "<br/>"
   ]
  },
  {
   "cell_type": "markdown",
   "metadata": {},
   "source": [
    "4. Salve um arquivo .csv com os dados de solicitações da Bahia, com interessado = 'Estado'"
   ]
  },
  {
   "cell_type": "code",
   "execution_count": 18,
   "metadata": {},
   "outputs": [],
   "source": [
    "# 4) Seu código aqui\n",
    "df_ba_estado = consulta_api(uf='ba', tipo_interessado='estado')"
   ]
  },
  {
   "cell_type": "code",
   "execution_count": 19,
   "metadata": {},
   "outputs": [],
   "source": [
    "df_ba_estado.to_csv('solicitações_bahia_estado.csv', index=False)"
   ]
  }
 ],
 "metadata": {
  "kernelspec": {
   "display_name": "Python 3 (ipykernel)",
   "language": "python",
   "name": "python3"
  },
  "language_info": {
   "codemirror_mode": {
    "name": "ipython",
    "version": 3
   },
   "file_extension": ".py",
   "mimetype": "text/x-python",
   "name": "python",
   "nbconvert_exporter": "python",
   "pygments_lexer": "ipython3",
   "version": "3.9.13"
  }
 },
 "nbformat": 4,
 "nbformat_minor": 4
}
